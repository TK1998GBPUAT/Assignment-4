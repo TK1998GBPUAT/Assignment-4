{
 "cells": [
  {
   "cell_type": "code",
   "execution_count": 48,
   "metadata": {},
   "outputs": [
    {
     "name": "stdout",
     "output_type": "stream",
     "text": [
      "a = 3\n",
      "b = 4\n",
      "c = 5\n",
      "area of triangle is  6.0\n"
     ]
    }
   ],
   "source": [
    "#1.1\n",
    "class sides:\n",
    "    def __init__(self,a,b,c):\n",
    "        self.a=a\n",
    "        self.b=b\n",
    "        self.c=c\n",
    "        \n",
    "class triangle(sides):\n",
    "    def area(self):\n",
    "        s=(self.a+self.b+self.c)*(1/2)\n",
    "        return float((s * (s - self.a) * (s - self.b) * (s - self.c))) ** 0.5\n",
    "\n",
    "a, b, c = float(input(\"a = \")), float(input(\"b = \")), float(input(\"c = \"))\n",
    "t=triangle(a,b,c)\n",
    "print('area of triangle is ', t.area())\n"
   ]
  },
  {
   "cell_type": "code",
   "execution_count": 50,
   "metadata": {},
   "outputs": [
    {
     "name": "stdout",
     "output_type": "stream",
     "text": [
      "enter the string: eqeqeqe\n",
      "enter a number5\n",
      "['e', 'q', 'e', 'q', 'e', 'q', 'e']\n"
     ]
    }
   ],
   "source": [
    "#1.2\n",
    "def filter_long_word(l,n):\n",
    "    if len(l)>n:\n",
    "        print(l)\n",
    "    else:\n",
    "        pass\n",
    "c=input(str(\"enter the string: \"))\n",
    "e=int(input('enter a number'))\n",
    "d=[]\n",
    "for i in c:\n",
    "    d.append(i)\n",
    "filter_long_word(d,e)\n"
   ]
  },
  {
   "cell_type": "code",
   "execution_count": 42,
   "metadata": {},
   "outputs": [
    {
     "name": "stdout",
     "output_type": "stream",
     "text": [
      "Enter a string that you like to convert to list by giving space in between ada dawe aawe3w\n",
      "[3, 4, 6]\n"
     ]
    }
   ],
   "source": [
    "#2.1\n",
    "def convert(c):\n",
    "    for i in c:\n",
    "        e.append(len(i))\n",
    "    print(e)\n",
    "l=input('Enter a string that you like to convert to list by giving space in between ')\n",
    "a=l.split()\n",
    "e=[]\n",
    "convert(a)                 "
   ]
  },
  {
   "cell_type": "code",
   "execution_count": 47,
   "metadata": {},
   "outputs": [
    {
     "name": "stdout",
     "output_type": "stream",
     "text": [
      "Enter the a characterr\n"
     ]
    },
    {
     "data": {
      "text/plain": [
       "False"
      ]
     },
     "execution_count": 47,
     "metadata": {},
     "output_type": "execute_result"
    }
   ],
   "source": [
    "#2.2\n",
    "def vowel(l,c):\n",
    "    for i in l:\n",
    "        if i==c:\n",
    "            return True\n",
    "        else:\n",
    "            return False\n",
    "a=input('Enter the a character')\n",
    "l=['a','e','i','o','u','A','E','I','O','U']\n",
    "vowel(l,a)\n",
    "    "
   ]
  },
  {
   "cell_type": "code",
   "execution_count": null,
   "metadata": {},
   "outputs": [],
   "source": []
  },
  {
   "cell_type": "code",
   "execution_count": null,
   "metadata": {},
   "outputs": [],
   "source": []
  },
  {
   "cell_type": "code",
   "execution_count": null,
   "metadata": {},
   "outputs": [],
   "source": []
  }
 ],
 "metadata": {
  "kernelspec": {
   "display_name": "Python 3",
   "language": "python",
   "name": "python3"
  },
  "language_info": {
   "codemirror_mode": {
    "name": "ipython",
    "version": 3
   },
   "file_extension": ".py",
   "mimetype": "text/x-python",
   "name": "python",
   "nbconvert_exporter": "python",
   "pygments_lexer": "ipython3",
   "version": "3.8.5"
  }
 },
 "nbformat": 4,
 "nbformat_minor": 4
}
